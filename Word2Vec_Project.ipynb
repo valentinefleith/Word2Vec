{
  "cells": [
    {
      "cell_type": "markdown",
      "id": "b6eed90c-6c75-4d4d-8e9c-d26ef97f517f",
      "metadata": {
        "id": "b6eed90c-6c75-4d4d-8e9c-d26ef97f517f"
      },
      "source": [
        "# Word2Vec : Creating Word Embeddings with Pytorch"
      ]
    },
    {
      "cell_type": "markdown",
      "id": "6cf0eeec-d3ec-4c2c-897c-0bbdf3066151",
      "metadata": {
        "id": "6cf0eeec-d3ec-4c2c-897c-0bbdf3066151"
      },
      "source": [
        "References :\n",
        "* https://towardsdatascience.com/understanding-feature-engineering-part-4-deep-learning-methods-for-text-data-96c44370bbfa\n",
        "* https://www.coursera.org/learn/probabilistic-models-in-nlp/home/week/4"
      ]
    },
    {
      "cell_type": "markdown",
      "id": "7ac9c73c-640c-4a62-aa30-24405d784556",
      "metadata": {
        "id": "7ac9c73c-640c-4a62-aa30-24405d784556"
      },
      "source": [
        "## Why do we need word embeddings ?\n",
        "\n",
        "When doing NLP, we are generally interested in being able to transform sentences or words into numeric representations, to then feed them to our algorithms and perform predictions.  Some simple methods of doing so include using term frequencies or n-grams among other things (counting the number of times a word appears in positive tweets vs. negative tweets for example)...  While these simple approaches can work quite well in some cases, sentences are essentially represented as \"Bags of Words\", meaning a lot of information is lost : sentence structure, semantics, what the usual context for a word is.  The word *cat* for example may be frequently accompanied by *a* or *the* to its left since it's a noun.  \n",
        "\n",
        "So how can we find more expressive numeric representations ?  This question motivated NLP researchers to create more sophisticated word representations, known as *word embeddings*.  These are *dense* vectors (vs. *sparse* vectors : vectors with high dimensionality where most of the values are 0s) and are now fundamental to any machine learning algorithm in NLP."
      ]
    },
    {
      "cell_type": "markdown",
      "id": "f85fd423-1218-42b6-9045-f83f4c064fff",
      "metadata": {
        "id": "f85fd423-1218-42b6-9045-f83f4c064fff"
      },
      "source": [
        "## What principle do these word embeddings rely on ?\n",
        "\n",
        "Creating word embeddings relies on the idea that \"You shall know a word by the company it keeps\" (Firth, 1957). In [distributional semantics](https://en.wikipedia.org/wiki/Distributional_semantics#Distributional_Hypothesis), the distributional hypothesis tells us that words which occur and are used in the same context are semantically similar to one another.  The word vectors (embeddings) created take into account this contextual information, and ideally, the resulting vectors for words that have *similar contexts* end up in the same area of the vector space :\n",
        "\n",
        "<img src='vector_space_example.jpg'/>"
      ]
    },
    {
      "cell_type": "markdown",
      "id": "9c82bb15-1ff2-42d1-8f68-fed1e9386c41",
      "metadata": {
        "id": "9c82bb15-1ff2-42d1-8f68-fed1e9386c41"
      },
      "source": [
        "## The Word2Vec Model\n",
        "\n",
        "This model was created by Google in 2013 and is a predictive deep learning based model :  given neighboring words, the neural network has to *predict* the word to be found at the center (this is only one of the possible architectures).\n",
        "\n",
        "\n",
        "Essentially, this model can leverage raw text (meaning no manual annotations needed), create a vocabulary of possible words and generate dense word embeddings for each word. We can even specify the size of the word embedding vectors, which makes the dimensionality of the vectors much lower than the high-dimensional sparse vectors built using traditional Bag of Words models.\n",
        "\n",
        "The model architecture we will be looking at is called the **Continuous Bag of Words Model**."
      ]
    },
    {
      "cell_type": "markdown",
      "id": "ff704030-bc14-4be7-b0a6-c793005c3d11",
      "metadata": {
        "id": "ff704030-bc14-4be7-b0a6-c793005c3d11"
      },
      "source": [
        "## The Continuous Bag of Words Model (CBOW)"
      ]
    },
    {
      "cell_type": "markdown",
      "id": "89ba3bf7-15d1-4113-809f-f24416957de4",
      "metadata": {
        "id": "89ba3bf7-15d1-4113-809f-f24416957de4"
      },
      "source": [
        "To create word embeddings, you need a corpus and a learning algorithm, a simple neural net in this case.  The embeddings are a set of vectors that will be extracted from the neural net once it is trained, and are actually a *by-product* of the following task : the main objective of the CBOW model is to predict a missing word based on its surrounding words.  The intuition is that updating the values in the vectors (that we will be extracting) based on this task yields vectors that capture distributional semantics, ie. how these words are used in language, and make good word embedings.\n",
        "\n",
        "<div style='text-align:center;'><img src='Embedding_method.png'/></div>"
      ]
    },
    {
      "cell_type": "markdown",
      "id": "73f7205a-3ac5-4ad7-84e3-b170b02ff3c8",
      "metadata": {
        "id": "73f7205a-3ac5-4ad7-84e3-b170b02ff3c8"
      },
      "source": [
        "The CBOW model architecture tries to predict the current target word (the center word) based on context words (the surrounding words). Let's take a simple example :\n",
        "> **“the quick brown fox jumps over the lazy dog”**.\n",
        "\n",
        "The sentence will be transformed into a series of examples for the model to train on : each example will consist of a (context_window, target_word) tuple.  Considering a context window of size $C=2$ (2 words to the left, 2 to the right, so 4 total) we would obtain :\n",
        "> Ex. 1 : (*[the, quick, fox, jumps]*, brown)  \n",
        "> Ex. 2 : (*[quick, brown, jumps, over]*, fox)  \n",
        "> Etc ...\n",
        "\n",
        "The neural net's task will be to predict the target word based on the context window words."
      ]
    },
    {
      "cell_type": "markdown",
      "id": "0e16ca46-8d17-4917-93f9-756699d07969",
      "metadata": {
        "id": "0e16ca46-8d17-4917-93f9-756699d07969"
      },
      "source": [
        "This means we can model this problem as a classification task such that we take in the context words as our input (X) and try to predict the target word (Y) out of all the possible words in the vocabulary.  This is essentialy a *multiclass* classification task (only 1 of the possible classes is correct), where a class is equivalent to a word in the vocabulary.  Here is an overview of the process :\n",
        "\n",
        "<div style='text-align:center;'><img src=\"CBOW_overview.png\"/></div>"
      ]
    },
    {
      "cell_type": "markdown",
      "id": "0a4f57ea-a2eb-43f4-9f29-badef4ade538",
      "metadata": {
        "id": "0a4f57ea-a2eb-43f4-9f29-badef4ade538"
      },
      "source": [
        "## Implementing the CBOW model\n",
        "\n",
        "Using text from Shakespeare's plays, you will implement the CBOW model from scratch, using pytorch to simplify the creation of the network architecture and training loop. The implementation will be divided into 4 parts:\n",
        "* **Building the corpus Vocab**\n",
        "* **Create the (context_window, target_word) examples**\n",
        "* **Build the neural network architecture**\n",
        "* **Train the model**\n",
        "* **Visualize the word embeddings**"
      ]
    },
    {
      "cell_type": "markdown",
      "id": "83df0d1b-a1ca-482a-a951-af8197f26b2d",
      "metadata": {
        "id": "83df0d1b-a1ca-482a-a951-af8197f26b2d"
      },
      "source": [
        "### 1. Building the corpus Vocab"
      ]
    },
    {
      "cell_type": "markdown",
      "id": "b507afe8-8d4b-40f1-becb-81ee06da5c3c",
      "metadata": {
        "id": "b507afe8-8d4b-40f1-becb-81ee06da5c3c"
      },
      "source": [
        "In the next cell, the text has been loaded and split into tokens for you :"
      ]
    },
    {
      "cell_type": "code",
      "execution_count": null,
      "id": "hNfT5_2NPd4y",
      "metadata": {
        "colab": {
          "base_uri": "https://localhost:8080/"
        },
        "id": "hNfT5_2NPd4y",
        "outputId": "9187e413-738d-46b6-e6fd-79ff68665399"
      },
      "outputs": [
        {
          "name": "stdout",
          "output_type": "stream",
          "text": [
            "Mounted at /content/drive\n"
          ]
        }
      ],
      "source": [
        "from google.colab import drive\n",
        "drive.mount('/content/drive')"
      ]
    },
    {
      "cell_type": "code",
      "execution_count": null,
      "id": "1b1b1cf6-51a2-446f-8b4e-5a62954a8984",
      "metadata": {
        "colab": {
          "base_uri": "https://localhost:8080/"
        },
        "id": "1b1b1cf6-51a2-446f-8b4e-5a62954a8984",
        "outputId": "7d30319d-e61d-4975-fcd0-05ac1a13e944"
      },
      "outputs": [
        {
          "name": "stderr",
          "output_type": "stream",
          "text": [
            "[nltk_data] Downloading package punkt to /root/nltk_data...\n",
            "[nltk_data]   Unzipping tokenizers/punkt.zip.\n"
          ]
        },
        {
          "name": "stdout",
          "output_type": "stream",
          "text": [
            "Number of tokens: 111696 \n",
            " First 15 tokens :  ['this', 'is', 'the', 'etext', 'file', 'presented', 'by', 'project', 'gutenberg', '.', 'and', 'is', 'presented', 'in', 'cooperation']\n"
          ]
        }
      ],
      "source": [
        "import nltk\n",
        "from nltk.tokenize import word_tokenize\n",
        "import re\n",
        "\n",
        "# dataset link :https://ocw.mit.edu/ans7870/6/6.006/s08/lecturenotes/files/t8.shakespeare.txt\n",
        "# you can clean some the the metatext if you wish\n",
        "with open('/content/drive/My Drive/NLP/shakespeare_small.txt') as f:\n",
        "    text = f.read()\n",
        "nltk.download('punkt')\n",
        "text = re.sub(r'[,!?;-]', '.',text)                                 #  Punktuations are replaced by .\n",
        "text = nltk.word_tokenize(text)                                     #  Tokenize string to words\n",
        "text = [ ch.lower() for ch in text if ch.isalpha() or ch == '.']    #  Lower case and drop non-alphabetical tokens\n",
        "print(\"Number of tokens:\", len(text), '\\n First 15 tokens : ', text[:15])  #  print data sample"
      ]
    },
    {
      "cell_type": "markdown",
      "id": "1c33b36f-b63a-4127-9a07-b86284a80491",
      "metadata": {
        "id": "1c33b36f-b63a-4127-9a07-b86284a80491"
      },
      "source": [
        "Next you must :\n",
        "* Get the vocabulary and vocabulary size (the set() function can be useful...)\n",
        "* Create 2 dictionaries :\n",
        "    * word2idx => keys are words in vocab, values are a unique number you must attribute to each word\n",
        "    * idx2word => keys are a unique number, values are the corresponding word  \n",
        "    These dictionaries will allow you to map words in the vocab to unique numbers.  This is necessary as you will be feeding these numbers to the model, not the words directly.\n",
        "* Create the (context, target) example pairs and store them in a list called data."
      ]
    },
    {
      "cell_type": "code",
      "execution_count": null,
      "id": "7fd682c6-2b2c-4f8f-b951-3a7639fe3616",
      "metadata": {
        "colab": {
          "base_uri": "https://localhost:8080/"
        },
        "id": "7fd682c6-2b2c-4f8f-b951-3a7639fe3616",
        "outputId": "8f7602e9-f5bb-4c41-ec83-890113bfb4f8"
      },
      "outputs": [
        {
          "name": "stdout",
          "output_type": "stream",
          "text": [
            "Vocab size = 7860 (should be equal to 7860)\n"
          ]
        }
      ],
      "source": [
        "# get the vocab and vocab length\n",
        "vocab = set(text)\n",
        "vocab_size = len(vocab)\n",
        "# sort the vocab alphabetically so everyone has the same indexes in the next cells (this is not strictly necessary)\n",
        "vocab = sorted(vocab)\n",
        "print(f\"Vocab size = {vocab_size} (should be equal to 7860)\") # for small version"
      ]
    },
    {
      "cell_type": "code",
      "execution_count": null,
      "id": "ae6492e7-adcc-453c-a05f-6cb59688c154",
      "metadata": {
        "colab": {
          "base_uri": "https://localhost:8080/"
        },
        "id": "ae6492e7-adcc-453c-a05f-6cb59688c154",
        "outputId": "64983258-78b3-4931-fbfc-1c2bda3b743a"
      },
      "outputs": [
        {
          "name": "stdout",
          "output_type": "stream",
          "text": [
            "Index of the word 'king' :   3764\n",
            "Word which has index 3764:   king\n"
          ]
        }
      ],
      "source": [
        "# create the word2idx and idx2word dictionaries:\n",
        "word2idx = {word: idx for idx, word in enumerate(vocab)}\n",
        "idx2word = {idx: word for idx, word in enumerate(vocab)}\n",
        "# example of word to index mapping\n",
        "print(\"Index of the word 'king' :  \",word2idx['king'] )\n",
        "print(\"Word which has index 3764:  \",idx2word[3764] )"
      ]
    },
    {
      "cell_type": "code",
      "execution_count": null,
      "id": "b1eaacbd-ba33-409f-8db7-f751e8540e81",
      "metadata": {
        "colab": {
          "base_uri": "https://localhost:8080/"
        },
        "id": "b1eaacbd-ba33-409f-8db7-f751e8540e81",
        "outputId": "b50fbddf-ab3a-44c8-915a-2eb9263e49cb"
      },
      "outputs": [
        {
          "name": "stdout",
          "output_type": "stream",
          "text": [
            "first 5 words : ['this', 'is', 'the', 'etext', 'file']\n",
            "example n°1 = (['this', 'is', 'etext', 'file'], 'the')\n",
            "context = ['this', 'is', 'etext', 'file']\n",
            "target = the\n",
            "Number of examples : 111692\n"
          ]
        }
      ],
      "source": [
        "# Going through the text, create a list of data examples, where each example consists of a (context, target) tuple.\n",
        "# The context can be represented as a list of the context words (2 before and 2 after)\n",
        "# You may start at word idx number 2 and end on the second to last word.\n",
        "\n",
        "data = []\n",
        "\n",
        "# loop to make training examples\n",
        "for i in range(2, len(text) -2):\n",
        "  data.append(([text[j] for j in range(i - 2, i + 3) if i != j], text[i]))\n",
        "\n",
        "\n",
        "# check if it works for the first example\n",
        "print(f'first 5 words : {text[:5]}')\n",
        "print(f'example n°1 = {data[0]}')\n",
        "print(f'context = {data[0][0]}')\n",
        "print(f'target = {data[0][1]}')\n",
        "\n",
        "print(f'Number of examples : {len(data)}')\n",
        "# if this is too much data and training is too long on your computer, you can reduce the data size, removing some of the plays."
      ]
    },
    {
      "cell_type": "markdown",
      "id": "5212cb5a",
      "metadata": {
        "id": "5212cb5a"
      },
      "source": [
        "Expected output is :\n",
        "first 5 words : ['this', 'is', 'the', 'etext', 'file']  \n",
        "example n°1 = (['this', 'is', 'etext', 'file'], 'the')   \n",
        "context = ['this', 'is', 'etext', 'file']  \n",
        "target = the  \n",
        "Number of examples : 111692"
      ]
    },
    {
      "cell_type": "markdown",
      "id": "2ec393b3-ece5-4da9-8cc5-b0441d607c19",
      "metadata": {
        "id": "2ec393b3-ece5-4da9-8cc5-b0441d607c19"
      },
      "source": [
        "### 2. Building the neural net architecture with pytorch"
      ]
    },
    {
      "cell_type": "code",
      "execution_count": null,
      "id": "ac619996-e928-4a40-8d84-2978df3ca21f",
      "metadata": {
        "id": "ac619996-e928-4a40-8d84-2978df3ca21f"
      },
      "outputs": [],
      "source": [
        "# https://pytorch.org/get-started/locally/ to see how to install pytorch if you\n",
        "# are working on your own computer\n",
        "# googlecolab is always an option\n",
        "import torch\n",
        "import torch.nn as nn\n",
        "import torch.nn.functional as F\n",
        "import torch.optim as optim"
      ]
    },
    {
      "cell_type": "markdown",
      "id": "791fadcc-bc27-4bce-af1e-2c3e3d85a591",
      "metadata": {
        "id": "791fadcc-bc27-4bce-af1e-2c3e3d85a591"
      },
      "source": [
        "#### 2.1 Batching the data examples"
      ]
    },
    {
      "cell_type": "markdown",
      "id": "4ee541dd",
      "metadata": {
        "id": "4ee541dd"
      },
      "source": [
        "In order to accelerate the training process, we can **batch** training examples together.  This means that instead of feeding the model 1 example at a time, we feed it 16 or 32 or 64 examples in one go. The batchsize is up to you and is generally a power of 2.  Pytorch's `Dataloader`class takes care of this for you.  It takes as arguments a pytorch `Dataset`(`TensorDataset` in this case) and a `batch_size`.  \n",
        "\n",
        "To be istantiated, the `TensorDataset` class here will take 2 arguments:\n",
        "* a pytorch tensor of inputs\n",
        "* a pytorch tensor of targets.  \n",
        "\n",
        "The inputs will be the contexts in the data list created above, except the tokens will have to be transformed into indexes (ie. integer values) for our neural net.  The targets will have to undergo the same treatment. Use the word2idx dictionary you created previously to get the corresponding indexes for each token.  Finally transform these lists into torch tensors by using `torch.tensor(list)` so they can be fed as arguments to the TorchDataset class."
      ]
    },
    {
      "cell_type": "code",
      "execution_count": 41,
      "id": "40663d34-8ccd-47df-996f-a77341c3c1d0",
      "metadata": {
        "id": "40663d34-8ccd-47df-996f-a77341c3c1d0"
      },
      "outputs": [],
      "source": [
        "from torch.utils.data import TensorDataset, DataLoader\n",
        "\n",
        "contexts = torch.tensor([[word2idx[word] for word in context[0]] for context in data])\n",
        "targets = torch.tensor([word2idx[target[1]] for target in data])\n",
        "\n",
        "assert len(contexts) == len(targets)\n",
        "\n",
        "dataset = TensorDataset(contexts, targets)\n",
        "dataloader = DataLoader(dataset, batch_size=128)"
      ]
    },
    {
      "cell_type": "code",
      "execution_count": 42,
      "id": "7aa3aae6-2d8b-4c50-8826-fa2d69f3a755",
      "metadata": {
        "colab": {
          "base_uri": "https://localhost:8080/"
        },
        "id": "7aa3aae6-2d8b-4c50-8826-fa2d69f3a755",
        "outputId": "6cd81ffe-3a0a-4ba1-b347-3a3fb1828346"
      },
      "outputs": [
        {
          "name": "stdout",
          "output_type": "stream",
          "text": [
            "torch.Size([111692, 4])\n",
            "tensor([[6915, 3668, 2386, 2649],\n",
            "        [3668, 6873, 2649, 5201]])\n",
            "tensor([6873, 2386])\n"
          ]
        }
      ],
      "source": [
        "print(contexts.shape)\n",
        "print(contexts[:2])\n",
        "print(targets[:2])"
      ]
    },
    {
      "cell_type": "markdown",
      "id": "a1271674-999e-4b20-a028-b336c336769a",
      "metadata": {
        "id": "a1271674-999e-4b20-a028-b336c336769a"
      },
      "source": [
        "Expected output:  \n",
        "\n",
        "torch.Size([111692, 4])  \n",
        "\n",
        "tensor([[6915, 3668, 2386, 2649],\n",
        "        [3668, 6873, 2649, 5201]])  \n",
        "        \n",
        "tensor([6873, 2386])"
      ]
    },
    {
      "cell_type": "markdown",
      "id": "bceefc1f-fd2f-45b0-813a-ae93d8f33ff1",
      "metadata": {
        "id": "bceefc1f-fd2f-45b0-813a-ae93d8f33ff1"
      },
      "source": [
        "#### 2.2 The Model architecture"
      ]
    },
    {
      "cell_type": "markdown",
      "id": "97f70a4d-8799-465c-8922-5698630f3995",
      "metadata": {
        "id": "97f70a4d-8799-465c-8922-5698630f3995"
      },
      "source": [
        "Here is an overview of the model's architecture and how a single example flows through the layers :  "
      ]
    },
    {
      "cell_type": "markdown",
      "id": "155fef6b-8fe4-4466-a7c6-5fbb1b2e7e18",
      "metadata": {
        "id": "155fef6b-8fe4-4466-a7c6-5fbb1b2e7e18"
      },
      "source": [
        "<div style='text-align:center;'/><img src='Diapositive1.png'>"
      ]
    },
    {
      "cell_type": "markdown",
      "id": "b66c5284-faed-47df-8d0a-7ef60c98a389",
      "metadata": {
        "id": "b66c5284-faed-47df-8d0a-7ef60c98a389"
      },
      "source": [
        "Take a look at the XOR notebook to see how a model class is created in pytorch (the init function and the forward function are the main components).\n",
        "\n",
        "You may add the `vocab_size` and number of embedding dimensions (`embedding_dim`) you want your embeddings to have (50 is a good choice) to the init parameters, so as to pass them in when you instantiate the model.\n",
        "\n",
        "Pytorch allows you to implement a special layer, called an embedding layer (`nn.Embedding`).  This special layer serves as a look-up table, mapping token indexes to vectors (**Embeddings**).  By default, the values in these vectors will be updated by the model with respect to our goal, which is to predict a token given the tokens surrouding it.  These 'trained' embeddings should therefore contain *distributional semantic* information that can be extracted from words appearing in the same context, which is what we're after.  Look at the the documentation to see what this layer takes as inputs : https://pytorch.org/docs/stable/generated/torch.nn.Embedding.html\n",
        "\n",
        "Then, add an output layer.  Be aware of the input and output sizes of the layer.  Take a look at the notebook on the XOR problem to see how to create a linear layer in pytorch.\n",
        "\n",
        "The `forward` function deals with the flow of data through the model.  In this case, it takes as input a *batch* of context vectors.\n",
        "This batch must first go through the embedding layer which returns 4 vectors (1 for each word) of equal dimension for each example in the batch.  With a batch size of 128 and an embedding dimension of 50, the shape of the output of the `nn.Embedding` layer will be:  (128, 4, 50):  128 matrices (one per example in the batch) of 4 by 50 (one 50 dimensional vector per context word).\n",
        "\n",
        "\n",
        "For each example in the batch, you will compute the average these 4 vectors to obtain a single vector.  This means you must specify that the mean calculated has to be along dimension 1 (the one equal to 4).  This is why the model is called Continuous Bag of Words: we don’t consider the order of the context words when averaging their embeddings in this way; that information is lost.\n",
        "\n",
        "Finally, all that is left is to pass the batch of averaged vectors to the output layer !\n",
        "\n",
        "No need to use the softmax function as a final activation function here, this will be done automatically by the loss function in the training loop (cf. next section)."
      ]
    },
    {
      "cell_type": "code",
      "execution_count": 56,
      "id": "fe1dfcc6-3695-442f-921f-fc8dcbef10f3",
      "metadata": {
        "collapsed": true,
        "id": "fe1dfcc6-3695-442f-921f-fc8dcbef10f3"
      },
      "outputs": [],
      "source": [
        "# Create the Neural Net (replace underscores and None)\n",
        "\n",
        "class CBOW(nn.Module):\n",
        "    def __init__(self, vocab_size, embedding_dim):\n",
        "\n",
        "        super().__init__()\n",
        "        # embedding layer\n",
        "        self.embeddings = nn.Embedding(vocab_size, embedding_dim)\n",
        "        # output layer\n",
        "        self.output = nn.Linear(embedding_dim, vocab_size)\n",
        "\n",
        "    def forward(self, batch):\n",
        "        embedded = self.embeddings(batch)\n",
        "        combined = embedded.mean(dim=1)\n",
        "        #avg = self.embeddings.sum(dim=1) / batch.size\n",
        "        # get the embeddings from the Embedding layer and average them along dim=1.\n",
        "        # use .shape to see what shape the batch has before and after going through\n",
        "        # each layer if you need to\n",
        "\n",
        "        output = self.output(combined)\n",
        "        return output\n",
        "        # pass the batch through the output layer to get the logits and return the final output.\n",
        "        # the output should be a matrix with dimensions batch_size x vocab_size\n"
      ]
    },
    {
      "cell_type": "code",
      "execution_count": 57,
      "id": "4b56d320-7eba-4130-af1e-6224784cc9d1",
      "metadata": {
        "colab": {
          "base_uri": "https://localhost:8080/"
        },
        "collapsed": true,
        "id": "4b56d320-7eba-4130-af1e-6224784cc9d1",
        "outputId": "589a0d45-0539-47d8-87e5-59971211f2db"
      },
      "outputs": [
        {
          "name": "stdout",
          "output_type": "stream",
          "text": [
            "CBOW(\n",
            "  (embeddings): Embedding(7860, 50)\n",
            "  (output): Linear(in_features=50, out_features=7860, bias=True)\n",
            ")\n"
          ]
        }
      ],
      "source": [
        "# set random seed to instantiate the model weights at random in a *reproducible* fashion\n",
        "# this means running this cell will reinitialize the embeddings to the same random initial values when you\n",
        "# try different hyperparameters\n",
        "torch.manual_seed(42)\n",
        "\n",
        "#instantiate the model\n",
        "model = CBOW(vocab_size,\n",
        "             embedding_dim=50)\n",
        "print(model)"
      ]
    },
    {
      "cell_type": "markdown",
      "id": "3e37598e-f290-4b7c-b884-3b83cb2f4321",
      "metadata": {
        "id": "3e37598e-f290-4b7c-b884-3b83cb2f4321"
      },
      "source": [
        "Your model should look something like this :\n",
        "\n",
        "CBOW(  \n",
        "  (embeddings): Embedding(7860, 50)  \n",
        "  (output): Linear(in_features=50, out_features=7860, bias=True)  \n",
        ")"
      ]
    },
    {
      "cell_type": "markdown",
      "id": "6fff8ba7-4287-4ef9-83c3-0d5d078fa26b",
      "metadata": {
        "id": "6fff8ba7-4287-4ef9-83c3-0d5d078fa26b"
      },
      "source": [
        "#### 2.3 Visualizing word vectors and similarities before training"
      ]
    },
    {
      "cell_type": "markdown",
      "id": "50af9d26-23af-47e7-9879-92c2a9a1816c",
      "metadata": {
        "id": "50af9d26-23af-47e7-9879-92c2a9a1816c"
      },
      "source": [
        "To see if training the model on this task has had a desirable effect on the word vectors (which are randomly initialized when you instantiate the model), it can be useful to compare the vectors for certain words before vs. after training.  The code in the next 2 cells shows similarity measures between vectors and plots vectors in space after reducing their dimensionality to 2.\n",
        "\n",
        "The list of words used can be changed as you wish.  "
      ]
    },
    {
      "cell_type": "code",
      "execution_count": 45,
      "id": "ab062724-8b94-4c99-95e9-7c8da632da5c",
      "metadata": {
        "id": "ab062724-8b94-4c99-95e9-7c8da632da5c"
      },
      "outputs": [],
      "source": [
        "import numpy as np\n",
        "import seaborn as sns\n",
        "from sklearn.decomposition import PCA\n",
        "import matplotlib.pyplot as plt"
      ]
    },
    {
      "cell_type": "code",
      "execution_count": 46,
      "id": "2eda1fbc-f595-47e5-9f3d-b920cbac5adb",
      "metadata": {
        "id": "2eda1fbc-f595-47e5-9f3d-b920cbac5adb"
      },
      "outputs": [],
      "source": [
        "# list of words to study\n",
        "words = ['man', 'king', 'lord', 'woman', 'queen', 'lady']"
      ]
    },
    {
      "cell_type": "code",
      "execution_count": 47,
      "id": "7a1dfab6-8029-4f33-84a4-af787df9ac5c",
      "metadata": {
        "id": "7a1dfab6-8029-4f33-84a4-af787df9ac5c"
      },
      "outputs": [],
      "source": [
        "# the embeddings for the words, randomly initialized by the model\n",
        "embeddings_bef = np.array([model.embeddings(torch.tensor(word2idx[word],dtype=torch.long)).detach().numpy()\n",
        "                       for word in words]).squeeze()"
      ]
    },
    {
      "cell_type": "code",
      "execution_count": 48,
      "id": "d1120dd2-0adc-497a-842f-24dbdbe1ecad",
      "metadata": {
        "colab": {
          "base_uri": "https://localhost:8080/",
          "height": 433
        },
        "collapsed": true,
        "id": "d1120dd2-0adc-497a-842f-24dbdbe1ecad",
        "outputId": "fab074d9-bbd0-44ae-ee7f-2b8c536e6b6e"
      },
      "outputs": [
        {
          "data": {
            "image/png": "[encoded data removed]",
            "text/plain": [
              "<Figure size 640x480 with 1 Axes>"
            ]
          },
          "metadata": {},
          "output_type": "display_data"
        }
      ],
      "source": [
        "# Plotting the vectors\n",
        "# In order to plot and visualize the vectors in 2D, we can use an algorithm called *Principal Component Analysis (PCA)*\n",
        "# to reduce the vectors' dimensions from 50 (or whichever dimension you chose) down to 2.  This can be easily done using `sklearn`.\n",
        "\n",
        "\n",
        "# perform PCA (reduce to 2 dimensions)\n",
        "pca = PCA(n_components=2)\n",
        "reduced = pca.fit_transform(embeddings_bef)\n",
        "\n",
        "# plotting the 2D vectors\n",
        "plt.scatter(reduced[:,1], reduced[:, 0])\n",
        "for i, word in enumerate(words):\n",
        "    plt.annotate(word, xy=(reduced[i, 1], reduced[i, 0]))\n",
        "plt.show()\n",
        "# plt.savefig(\"plot.pdf\") # save fig to pdf"
      ]
    },
    {
      "cell_type": "code",
      "execution_count": 49,
      "id": "44074d49-d540-4b0d-9a20-51e80c1189e1",
      "metadata": {
        "colab": {
          "base_uri": "https://localhost:8080/",
          "height": 447
        },
        "collapsed": true,
        "id": "44074d49-d540-4b0d-9a20-51e80c1189e1",
        "outputId": "23b474a0-8013-4453-8c80-a3db18e48997"
      },
      "outputs": [
        {
          "data": {
            "text/plain": [
              "<Axes: >"
            ]
          },
          "execution_count": 49,
          "metadata": {},
          "output_type": "execute_result"
        },
        {
          "data": {
            "image/png": "[encoded data removed]",
            "text/plain": [
              "<Figure size 640x480 with 2 Axes>"
            ]
          },
          "metadata": {},
          "output_type": "display_data"
        }
      ],
      "source": [
        "# This code creates a heatmap showing the cosine similarity between each of the words in the list\n",
        "\n",
        "# compute cosine simil between words\n",
        "dot_similarity = np.dot(embeddings_bef, embeddings_bef.T)\n",
        "norms = np.linalg.norm(embeddings_bef, axis=1)\n",
        "dot_similarity /= np.outer(norms, norms)\n",
        "\n",
        "# create heatmap (top half has been masked for more clarity, since it shows the same scores as the bottom half)\n",
        "mask = np.zeros_like(dot_similarity)\n",
        "mask[np.triu_indices_from(mask)] = True\n",
        "sns.heatmap(dot_similarity,\n",
        "            xticklabels=words,\n",
        "            yticklabels=words,\n",
        "            annot=True,\n",
        "            mask=mask,\n",
        "            cmap='viridis')\n",
        "# plt.savefig(\"heatmap.pdf\") # save fig to pdf"
      ]
    },
    {
      "cell_type": "markdown",
      "id": "bf2e7021-d626-4120-b783-34763c8c082f",
      "metadata": {
        "id": "bf2e7021-d626-4120-b783-34763c8c082f"
      },
      "source": [
        "#### **Question** :\n",
        "\n",
        "How do you think the cosine similarity scores will/should change after training ?  In the plot, how would you expect the vectors to move ?  Which word vectors should end up closer/farther ?"
      ]
    },
    {
      "cell_type": "markdown",
      "id": "f759c59f-e064-4d7d-8da0-1ffa743e1c4b",
      "metadata": {
        "id": "f759c59f-e064-4d7d-8da0-1ffa743e1c4b"
      },
      "source": [
        "#### 2.4 Training Loop"
      ]
    },
    {
      "cell_type": "markdown",
      "id": "1449c12b-df5c-484e-8596-c75d2df88b91",
      "metadata": {
        "id": "1449c12b-df5c-484e-8596-c75d2df88b91"
      },
      "source": [
        "Start by selecting the appropriate loss function and optimizer.  You may use `nn.CrossEntropyLoss()` as a loss function and `torch.optim.SGD`for the optimizer.  This optimizer is an implementation of the Gradient Descent algorithm and takes as arguments `model.parameters()`, the model's parameters, and `lr` the learning rate, which can be set to 0.1 when using batches of 128 (experiment with different values here).  \n",
        "\n",
        "Next you can run the model for 150-200 epochs or until you find little to no change between current_loss and prev_loss.  This should be able to run on your computer, but if not just copy import the notebook into colab.  The fact that we divided the training data into batches means each epoch should take a few secs instead of several minutes.  (Batching is usually used in conjunction with a GPU but can speed things up even on a CPU, which is what we are using here.)\n",
        "\n",
        "*NOTE: until you reset the parameters by re-instantiating the model, the training loop will continue from where it left off. If you stop and then retstart the cell below, you will continue training the parameters from the last epoch.*"
      ]
    },
    {
      "cell_type": "code",
      "execution_count": 58,
      "id": "06a08957-edaf-4501-a939-5254f62ee363",
      "metadata": {
        "colab": {
          "base_uri": "https://localhost:8080/"
        },
        "id": "06a08957-edaf-4501-a939-5254f62ee363",
        "outputId": "5dfa5971-4506-402b-f8fb-e57865835804"
      },
      "outputs": [
        {
          "name": "stdout",
          "output_type": "stream",
          "text": [
            "Epoch 1 : 11059.423233509064\n",
            "Epoch 2 : 9991.349585294724\n",
            "Epoch 3 : 9689.51719212532\n",
            "Epoch 4 : 9492.277030229568\n",
            "Epoch 5 : 9341.616941213608\n",
            "Epoch 6 : 9218.977733373642\n",
            "Epoch 7 : 9114.358096957207\n",
            "Epoch 8 : 9022.153616547585\n",
            "Epoch 9 : 8939.095782160759\n",
            "Epoch 10 : 8863.055222272873\n",
            "Epoch 11 : 8792.54341340065\n",
            "Epoch 12 : 8726.492420434952\n",
            "Epoch 13 : 8664.126258134842\n",
            "Epoch 14 : 8604.872804522514\n",
            "Epoch 15 : 8548.302474737167\n",
            "Epoch 16 : 8494.085967600346\n",
            "Epoch 17 : 8441.964726865292\n",
            "Epoch 18 : 8391.731092751026\n",
            "Epoch 19 : 8343.215066313744\n",
            "Epoch 20 : 8296.275239884853\n",
            "Epoch 21 : 8250.792412757874\n",
            "Epoch 22 : 8206.665155470371\n",
            "Epoch 23 : 8163.805981993675\n",
            "Epoch 24 : 8122.138829410076\n",
            "Epoch 25 : 8081.597211837769\n",
            "Epoch 26 : 8042.122860014439\n",
            "Epoch 27 : 8003.664244174957\n",
            "Epoch 28 : 7966.175703525543\n",
            "Epoch 29 : 7929.616357088089\n",
            "Epoch 30 : 7893.94932359457\n",
            "Epoch 31 : 7859.140840291977\n",
            "Epoch 32 : 7825.159771621227\n",
            "Epoch 33 : 7791.976963996887\n",
            "Epoch 34 : 7759.56507062912\n",
            "Epoch 35 : 7727.89809346199\n",
            "Epoch 36 : 7696.95129019022\n",
            "Epoch 37 : 7666.701163291931\n",
            "Epoch 38 : 7637.125245213509\n",
            "Epoch 39 : 7608.202017664909\n",
            "Epoch 40 : 7579.911077558994\n",
            "Epoch 41 : 7552.23262655735\n",
            "Epoch 42 : 7525.147746920586\n",
            "Epoch 43 : 7498.638321220875\n",
            "Epoch 44 : 7472.686614096165\n",
            "Epoch 45 : 7447.275753796101\n",
            "Epoch 46 : 7422.389167428017\n",
            "Epoch 47 : 7398.010975062847\n",
            "Epoch 48 : 7374.125703245401\n",
            "Epoch 49 : 7350.718377709389\n",
            "Epoch 50 : 7327.774471759796\n",
            "Epoch 51 : 7305.27991694212\n",
            "Epoch 52 : 7283.22097030282\n",
            "Epoch 53 : 7261.584318041801\n",
            "Epoch 54 : 7240.35689419508\n",
            "Epoch 55 : 7219.526127040386\n",
            "Epoch 56 : 7199.079701542854\n",
            "Epoch 57 : 7179.005549818277\n",
            "Epoch 58 : 7159.292016804218\n",
            "Epoch 59 : 7139.927757233381\n",
            "Epoch 60 : 7120.901717424393\n",
            "Epoch 61 : 7102.2031761705875\n",
            "Epoch 62 : 7083.821814209223\n",
            "Epoch 63 : 7065.747521430254\n",
            "Epoch 64 : 7047.97073662281\n",
            "Epoch 65 : 7030.4820246994495\n",
            "Epoch 66 : 7013.272407561541\n",
            "Epoch 67 : 6996.333167642355\n",
            "Epoch 68 : 6979.655881345272\n",
            "Epoch 69 : 6963.232432454824\n",
            "Epoch 70 : 6947.055134087801\n",
            "Epoch 71 : 6931.116343021393\n",
            "Epoch 72 : 6915.408876299858\n",
            "Epoch 73 : 6899.925729125738\n",
            "Epoch 74 : 6884.66008490324\n",
            "Epoch 75 : 6869.605474472046\n",
            "Epoch 76 : 6854.755670964718\n",
            "Epoch 77 : 6840.104570418596\n",
            "Epoch 78 : 6825.6463958323\n",
            "Epoch 79 : 6811.375518918037\n",
            "Epoch 80 : 6797.286616623402\n",
            "Epoch 81 : 6783.374419748783\n",
            "Epoch 82 : 6769.633927702904\n",
            "Epoch 83 : 6756.06041175127\n",
            "Epoch 84 : 6742.649127274752\n",
            "Epoch 85 : 6729.395694702864\n",
            "Epoch 86 : 6716.295757979155\n",
            "Epoch 87 : 6703.345195114613\n",
            "Epoch 88 : 6690.53992536664\n",
            "Epoch 89 : 6677.876169979572\n",
            "Epoch 90 : 6665.350146055222\n",
            "Epoch 91 : 6652.958267390728\n",
            "Epoch 92 : 6640.6970438063145\n",
            "Epoch 93 : 6628.563105434179\n",
            "Epoch 94 : 6616.553292244673\n",
            "Epoch 95 : 6604.6644550561905\n",
            "Epoch 96 : 6592.893573671579\n",
            "Epoch 97 : 6581.237723559141\n",
            "Epoch 98 : 6569.694189488888\n",
            "Epoch 99 : 6558.2601599395275\n",
            "Epoch 100 : 6546.933116734028\n",
            "Epoch 101 : 6535.710459500551\n",
            "Epoch 102 : 6524.589883476496\n",
            "Epoch 103 : 6513.568873047829\n",
            "Epoch 104 : 6502.645320028067\n",
            "Epoch 105 : 6491.816975265741\n",
            "Epoch 106 : 6481.081660240889\n",
            "Epoch 107 : 6470.43737745285\n",
            "Epoch 108 : 6459.88209682703\n",
            "Epoch 109 : 6449.413881957531\n",
            "Epoch 110 : 6439.03096267581\n",
            "Epoch 111 : 6428.731419116259\n",
            "Epoch 112 : 6418.5135561823845\n",
            "Epoch 113 : 6408.375648498535\n",
            "Epoch 114 : 6398.3160299658775\n",
            "Epoch 115 : 6388.33314910531\n",
            "Epoch 116 : 6378.425468355417\n",
            "Epoch 117 : 6368.591388702393\n",
            "Epoch 118 : 6358.829537928104\n",
            "Epoch 119 : 6349.1384308338165\n",
            "Epoch 120 : 6339.5167399048805\n",
            "Epoch 121 : 6329.963077753782\n",
            "Epoch 122 : 6320.47619253397\n",
            "Epoch 123 : 6311.054689407349\n",
            "Epoch 124 : 6301.697543263435\n",
            "Epoch 125 : 6292.403414100409\n",
            "Epoch 126 : 6283.171224474907\n",
            "Epoch 127 : 6273.999807476997\n",
            "Epoch 128 : 6264.888116747141\n",
            "Epoch 129 : 6255.835018008947\n",
            "Epoch 130 : 6246.839509516954\n",
            "Epoch 131 : 6237.900623828173\n",
            "Epoch 132 : 6229.017345428467\n",
            "Epoch 133 : 6220.188729941845\n",
            "Epoch 134 : 6211.413880258799\n",
            "Epoch 135 : 6202.691880166531\n",
            "Epoch 136 : 6194.021866381168\n",
            "Epoch 137 : 6185.4029590040445\n",
            "Epoch 138 : 6176.834417566657\n",
            "Epoch 139 : 6168.315299883485\n",
            "Epoch 140 : 6159.844888225198\n",
            "Epoch 141 : 6151.422425210476\n",
            "Epoch 142 : 6143.04717515409\n",
            "Epoch 143 : 6134.718360573053\n",
            "Epoch 144 : 6126.435329243541\n",
            "Epoch 145 : 6118.197343826294\n",
            "Epoch 146 : 6110.003772765398\n",
            "Epoch 147 : 6101.853953629732\n",
            "Epoch 148 : 6093.747207045555\n",
            "Epoch 149 : 6085.682876423001\n",
            "Epoch 150 : 6077.660466060042\n"
          ]
        }
      ],
      "source": [
        "import time\n",
        "loss_function = nn.CrossEntropyLoss()\n",
        "optimizer = torch.optim.SGD(model.parameters(), 0.1)\n",
        "#scheduler = optim.lr_scheduler.ReduceLROnPlateau(optimizer, mode='min', factor=0.1, patience=10, threshold=5, verbose=True)\n",
        "epochs = 150\n",
        "\n",
        "#TRAINING\n",
        "# around 4s per epoch on my machine (small version)\n",
        "# you can track the time passed per epoch by decommenting the time1 line and the print(time.time...) at the end.\n",
        "for epoch in range(epochs):\n",
        "    #time1 = time.time()\n",
        "\n",
        "    # initiliaze the total_loss for each epoch to 0\n",
        "    total_loss = 0\n",
        "\n",
        "    # the dataloader is a generator object, it produces a batch of contexts and targets when you iterate over it.\n",
        "    for context, target in dataloader:\n",
        "        optimizer.zero_grad()\n",
        "        # get the logits\n",
        "        logits = model(context)\n",
        "\n",
        "        # calculate the loss by passing the logits and targets to the loss_function\n",
        "        loss = loss_function(logits, target)\n",
        "\n",
        "        # add the loss value to the total_loss (use loss.item() to get the value as a standard number vs a pytorch tensor)\n",
        "        total_loss += loss.item()\n",
        "\n",
        "\n",
        "        # optimize the network weights using the three steps seen in the XOR notebook\n",
        "        loss.backward()\n",
        "        optimizer.step()\n",
        "    #scheduler.step(total_loss)\n",
        "\n",
        "    # track the loss by printing it every 10 epochs (replace with 1 to see the time passed per epoch)\n",
        "    if (epoch+1) % 1 == 0:\n",
        "        print(f'Epoch {epoch+1} : {total_loss}')\n",
        "\n",
        "    #print(time.time()-time1)"
      ]
    },
    {
      "cell_type": "code",
      "execution_count": 59,
      "id": "f294ea31-27e7-4b61-9b1e-6b0e29215f24",
      "metadata": {
        "colab": {
          "base_uri": "https://localhost:8080/"
        },
        "id": "f294ea31-27e7-4b61-9b1e-6b0e29215f24",
        "outputId": "8ddadbee-bc99-4063-ac11-278782a595d5"
      },
      "outputs": [
        {
          "data": {
            "text/plain": [
              "<All keys matched successfully>"
            ]
          },
          "execution_count": 59,
          "metadata": {},
          "output_type": "execute_result"
        }
      ],
      "source": [
        "# save your trained model for easier experimentation\n",
        "torch.save(model.state_dict(), f'/content/drive/My Drive/NLP/cbow_model_05lr_64batch.pth') # add num of epochs to know which model this is for example\n",
        "\n",
        "# load your trained model whenever you want with\n",
        "model = CBOW(vocab_size, embedding_dim=50) # reset the model\n",
        "model.load_state_dict(torch.load('/content/drive/My Drive/NLP/cbow_model_05lr_64batch.pth')) # load the saved weights"
      ]
    },
    {
      "cell_type": "markdown",
      "id": "5324aef8-3f6a-41fc-badd-9357670650c8",
      "metadata": {
        "id": "5324aef8-3f6a-41fc-badd-9357670650c8"
      },
      "source": [
        "#### 2.5 Visualizing word vectors and similarities after training\n",
        "\n",
        "Using the same list of words as before, the next cells show the new similarities and plot the new word vectors.  What has changed ? Do the results seem to verify your hypotheses ?  \n",
        "How do you think the results could be improved ?\n",
        "\n",
        "Try changing the hyperparameters to see if they have any impact.  These include :\n",
        "\n",
        "* number of embedding dimensions (ie. size of the embeddings)\n",
        "* learning rate\n",
        "* number of epochs\n",
        "* batch size (optionally)\n",
        "\n",
        "Training word vectors requires large amounts of text.  This project is a toy example, so do not be discouraged if differences are small... Try to still look for anything noteworthy.  How would you expect the vectors to move ?"
      ]
    },
    {
      "cell_type": "code",
      "execution_count": 60,
      "id": "3ecab8dd-320d-4e7c-9d70-cb87192bf4d8",
      "metadata": {
        "id": "3ecab8dd-320d-4e7c-9d70-cb87192bf4d8"
      },
      "outputs": [],
      "source": [
        "embeddings_aft = np.array([model.embeddings(torch.tensor(word2idx[word],dtype=torch.long)).detach().numpy()\n",
        "                       for word in words]).squeeze()"
      ]
    },
    {
      "cell_type": "code",
      "execution_count": 61,
      "id": "22e90dfa-1fdb-4d1d-9aae-e38b7258d5b0",
      "metadata": {
        "colab": {
          "base_uri": "https://localhost:8080/",
          "height": 447
        },
        "collapsed": true,
        "id": "22e90dfa-1fdb-4d1d-9aae-e38b7258d5b0",
        "outputId": "19116e5b-4dfd-4ba0-8381-f42d3f736052"
      },
      "outputs": [
        {
          "name": "stdout",
          "output_type": "stream",
          "text": [
            "[-5.693716 -5.883642]\n"
          ]
        },
        {
          "data": {
            "image/png": "[encoded data removed]",
            "text/plain": [
              "<Figure size 640x480 with 1 Axes>"
            ]
          },
          "metadata": {},
          "output_type": "display_data"
        }
      ],
      "source": [
        "reduced = pca.fit_transform(embeddings_aft)\n",
        "print(reduced[0])\n",
        "\n",
        "plt.scatter(reduced[:,1], reduced[:, 0])\n",
        "for i, word in enumerate(words):\n",
        "    plt.annotate(word, xy=(reduced[i, 1], reduced[i, 0]))\n",
        "plt.show()\n",
        "# plt.savefig(\"plot.pdf\") # save fig to pdf"
      ]
    },
    {
      "cell_type": "code",
      "execution_count": 62,
      "id": "dd25c308-ebfa-4b2f-8d7b-eab54471afbe",
      "metadata": {
        "colab": {
          "base_uri": "https://localhost:8080/",
          "height": 447
        },
        "id": "dd25c308-ebfa-4b2f-8d7b-eab54471afbe",
        "outputId": "bc2b52e7-0c61-48c7-a993-7180c360a3c1"
      },
      "outputs": [
        {
          "data": {
            "text/plain": [
              "<Axes: >"
            ]
          },
          "execution_count": 62,
          "metadata": {},
          "output_type": "execute_result"
        },
        {
          "data": {
            "image/png": "[encoded data removed]",
            "text/plain": [
              "<Figure size 640x480 with 2 Axes>"
            ]
          },
          "metadata": {},
          "output_type": "display_data"
        }
      ],
      "source": [
        "dot_similarity = np.dot(embeddings_aft, embeddings_aft.T)\n",
        "norms = np.linalg.norm(embeddings_aft, axis=1)\n",
        "dot_similarity /= np.outer(norms, norms)\n",
        "\n",
        "mask = np.zeros_like(dot_similarity)\n",
        "mask[np.triu_indices_from(mask)] = True\n",
        "sns.heatmap(dot_similarity,\n",
        "            xticklabels=words,\n",
        "            yticklabels=words,\n",
        "            annot=True,\n",
        "            mask=mask,\n",
        "            cmap='viridis')\n",
        "# plt.savefig(\"heatmap.pdf\") # save fig to pdf"
      ]
    }
  ],
  "metadata": {
    "accelerator": "GPU",
    "colab": {
      "gpuType": "T4",
      "provenance": []
    },
    "kernelspec": {
      "display_name": "Python 3",
      "name": "python3"
    },
    "language_info": {
      "codemirror_mode": {
        "name": "ipython",
        "version": 3
      },
      "file_extension": ".py",
      "mimetype": "text/x-python",
      "name": "python",
      "nbconvert_exporter": "python",
      "pygments_lexer": "ipython3",
      "version": "3.11.5"
    }
  },
  "nbformat": 4,
  "nbformat_minor": 5
}
